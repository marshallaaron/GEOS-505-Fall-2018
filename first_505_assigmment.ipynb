{
 "cells": [
  {
   "cell_type": "markdown",
   "metadata": {},
   "source": [
    "# GEOS 505 Assignment 1"
   ]
  },
  {
   "cell_type": "markdown",
   "metadata": {},
   "source": [
    "Aaron Marshall; 8 October 2018"
   ]
  },
  {
   "cell_type": "markdown",
   "metadata": {},
   "source": [
    "### Question 1 - Describe the dataset"
   ]
  },
  {
   "cell_type": "markdown",
   "metadata": {},
   "source": [
    "The dataset I'm uploading contains median phi and F2/F1 (grain sizes < 4 phi/grain sizes < 0 phi) values for Llaima pyroclastic deposits in southern Chile. The bulk samples were field sieved and collected in December, 2016 and laboratory sieved for fine fractions in spring 2017 in the Boise State University Sedimentary Systems Laboratory. One hypothesis I'm testing is the influence of meteoric groundwater during Llaima's explosive phase, and how this groundwater may or may not have impacted eruption intensity. This can be evidenced through grain size distributions, ratios of fines (F2/F1), and ash morphology. The data is stored as two columns in a .csv file."
   ]
  },
  {
   "cell_type": "markdown",
   "metadata": {},
   "source": [
    "### Question 2 - Import the dataset and verify it is what you expect"
   ]
  },
  {
   "cell_type": "markdown",
   "metadata": {},
   "source": [
    "To obtain the dataset in a form I can upload, I first had to sieve the bulk sample to 4 phi. All phi bins were weighed and compared to the initial bulk weight to obtain a total grain size distribution. From this data, I pulled out the median phi, 0 phi, and 4 phi fractions to construct a small .csv file of data. These data are svaed as f2f1.csv. I imported numpy, matplotlib, and pandas prior to defining and uploading the .csv file. Next, I defined the filename and dataframe."
   ]
  },
  {
   "cell_type": "code",
   "execution_count": 4,
   "metadata": {},
   "outputs": [],
   "source": [
    "import numpy as np\n",
    "import matplotlib.pyplot as plt\n",
    "import pandas as pd\n",
    "df=pd.read_csv('f2f1.csv')"
   ]
  },
  {
   "cell_type": "markdown",
   "metadata": {},
   "source": [
    "### Question 3 - create a visualization of some feature of your dataset"
   ]
  },
  {
   "cell_type": "markdown",
   "metadata": {},
   "source": [
    "The plot I made is a sample plot of F2/F1 versus median phi. This plot allows me to compare the fines fraction of the sample (F2/F1) to the statistically average phi size. Because the presence of meteoric water increases eruption explosivity (phreatomagmatism), I expect to see higher F2/F1 ratios (fines enriched) with respect to median phi sizes."
   ]
  },
  {
   "cell_type": "code",
   "execution_count": 8,
   "metadata": {},
   "outputs": [
    {
     "data": {
      "image/png": "[encoded data removed]",
      "text/plain": [
       "<Figure size 432x288 with 1 Axes>"
      ]
     },
     "metadata": {},
     "output_type": "display_data"
    }
   ],
   "source": [
    "df.plot.scatter(x='f2f1',y='md_phi',\n",
    "                title='Curacautín grain size data',\n",
    "                xlim=[0.0,0.50],\n",
    "                ylim=[-3,3])\n",
    "plt.show()"
   ]
  },
  {
   "cell_type": "markdown",
   "metadata": {},
   "source": [
    "### Question 4 - Describe the visualization you just created"
   ]
  },
  {
   "cell_type": "markdown",
   "metadata": {},
   "source": [
    "This plot is a simple figure of the median phi versus the ratio of fine fractions. The first thing that stands out to me is the relative spread of the data. I would expect a tighter grouping were phreatomagmatism a component of these eruptions. I would expect this grouping to be closer to median phis between 1 and 2 and F2/F1 ratios nearer the 0.30 and greater range. This does not mean phreatomagmatism was not a factor in the eruptions studied, but that more analyses are needed. Next, I will see if these data show a correlation between deposits."
   ]
  }
 ],
 "metadata": {
  "kernelspec": {
   "display_name": "Python 3",
   "language": "python",
   "name": "python3"
  },
  "language_info": {
   "codemirror_mode": {
    "name": "ipython",
    "version": 3
   },
   "file_extension": ".py",
   "mimetype": "text/x-python",
   "name": "python",
   "nbconvert_exporter": "python",
   "pygments_lexer": "ipython3",
   "version": "3.6.5"
  }
 },
 "nbformat": 4,
 "nbformat_minor": 2
}
