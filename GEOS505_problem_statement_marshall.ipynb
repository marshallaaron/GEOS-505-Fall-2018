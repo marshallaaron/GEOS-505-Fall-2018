{
 "cells": [
  {
   "cell_type": "markdown",
   "metadata": {},
   "source": [
    "## GEOS 505 Problem Statement"
   ]
  },
  {
   "cell_type": "markdown",
   "metadata": {},
   "source": [
    "### Aaron Marshall | 7 November 2018"
   ]
  },
  {
   "cell_type": "markdown",
   "metadata": {},
   "source": [
    "Image processing techniques are becoming an increasingly useful method of collecting large quantities of data quickly. Additionally, improved methods of deriving quantitative data from images is yielding new insights into scientific phenomena. This makes image analysis a simple and efficient method of research that has applications to many branches of the geosciences.\n",
    "    \n",
    "Image processing in volcanology allows researchers to glimpse conduit processes, crystal and bubble dynamics and their controls on eruption dynamics, and to understand magma ascent rates (see review by Shea et al., 2010). However, to calculate textures such as bubble number densities (BND), bubble size distributions (BSD), microlite number densities (MND), microlite size distributions (MSD), and vesicularity (ves.), manual manipulation of scanning electron microscope (SEM) images is necessary to prepare images for evaluation. This is often a time-intensive process, as images must be binarized, thresholded, cropped, and individual bubbles and crystals outlined and shaded in different grayscale values. Samples with large MND, MSD, and BND may take hours or days to fully capture all textures. There is also the potential for operator bias when outlining and selecting bubbles and crystals.\n",
    "    \n",
    "For this project, I want to develop some of the tools necessary to automate the process of bubble and crystal selection within SEM slices of volcanic pyroclasts. I will use a dataset of Llaima volcano pyroclasts that have already been measured using traditional manual techniques. The goal of my project will be to create a code that can automatically load, binarize, threshold, and crop SEM images. Then, the code will scan each image to detect grayscale (DN) values, create polygons around the selected value, and make a layer that only contains polygons of the desired DN value. The final product will be an image of stacked layers of the different DN values, so that I can then calculate the statistics of a given DN value. The code already exists to do the statistical calculations (MATLAB script). This project will hopefully speed up the pre-image processing required to make images ready for the MATLAB code.\n",
    "\n",
    "Shea, T., Houghton, B.F., Gurioli, L., Cashman, K.V.,Hammer, J.E., and Hobden, B.J., 2010, Textural studies of volcanic rocks: An integrated methodology: Journal of Volcanology and Geothermal Research, v. 190, p. 271-289, doi: 10.1016/j.jvolgeores2009.12.003."
   ]
  },
  {
   "cell_type": "code",
   "execution_count": null,
   "metadata": {},
   "outputs": [],
   "source": []
  }
 ],
 "metadata": {
  "kernelspec": {
   "display_name": "Python 3",
   "language": "python",
   "name": "python3"
  },
  "language_info": {
   "codemirror_mode": {
    "name": "ipython",
    "version": 3
   },
   "file_extension": ".py",
   "mimetype": "text/x-python",
   "name": "python",
   "nbconvert_exporter": "python",
   "pygments_lexer": "ipython3",
   "version": "3.6.5"
  }
 },
 "nbformat": 4,
 "nbformat_minor": 2
}
